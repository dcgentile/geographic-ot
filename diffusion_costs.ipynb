{
 "cells": [
  {
   "cell_type": "code",
   "execution_count": 131,
   "id": "bb5465eb-c510-43d2-83ac-70ae8802d3f1",
   "metadata": {
    "collapsed": false
   },
   "outputs": [],
   "source": [
    "import ot\n",
    "import numpy as np\n",
    "import seaborn as sns\n",
    "import networkx as nx\n",
    "import matplotlib.pyplot as plt\n",
    "import matplotlib.animation as animation\n",
    "from gerrychain import Graph\n",
    "from math import sqrt\n",
    "from numpy.linalg import inv, matrix_power\n",
    "from scipy.linalg import expm\n",
    "from tqdm import tqdm"
   ]
  },
  {
   "cell_type": "code",
   "execution_count": 132,
   "id": "469fe25b-bbf9-4fe5-b3f5-23def5fcd0a7",
   "metadata": {
    "collapsed": false
   },
   "outputs": [
    {
     "name": "stderr",
     "output_type": "stream",
     "text": [
      "/usr/local/lib/python3.11/site-packages/gerrychain/graph/graph.py:179: UserWarning: Geometry is in a geographic CRS. Results from 'area' are likely incorrect. Use 'GeoSeries.to_crs()' to re-project geometries to a projected CRS before this operation.\n",
      "\n",
      "  areas = df.geometry.area.to_dict()\n"
     ]
    }
   ],
   "source": [
    "graph = Graph.from_file('./IA_counties/IA_counties.shp')"
   ]
  },
  {
   "cell_type": "code",
   "execution_count": 138,
   "id": "675eac7a-eb43-4087-a078-1b6b072ffe58",
   "metadata": {
    "collapsed": false
   },
   "outputs": [],
   "source": [
    "'''\n",
    "given an an adjacency matrix for a graph G, produce the transition\n",
    "matrix for the random walk on G\n",
    "'''\n",
    "def form_markov_chain(adj_mat):\n",
    "    return inv(np.diag(np.sum(adj_mat, axis=1))) @ adj_mat\n",
    "    \n",
    "\n",
    "'''\n",
    "given a valid cost matrix, return the indices which represent points\n",
    "achieving the diameter of the set\n",
    "'''\n",
    "\n",
    "def max_dist(cost):\n",
    "    return np.unravel_index(cost.argmax(), cost.shape)\n",
    "'''\n",
    "given a Markov chain p, produce the vector representing its steady state\n",
    "'''\n",
    "def find_steady_state(p):\n",
    "    dim = p.shape[0]\n",
    "    q = (p-np.eye(dim))\n",
    "    ones = np.ones(dim)\n",
    "    q = np.c_[q,ones]\n",
    "    QTQ = np.dot(q, q.T)\n",
    "    bQT = np.ones(dim)\n",
    "    return np.linalg.solve(QTQ,bQT)\n",
    "\n",
    "'''\n",
    "given a Markov chain (or any power of it) mchain with steady state steady_state,\n",
    "compute the diffusion distance between vertices i and j\n",
    "'''\n",
    "def diffusion_distance(mchain, steady_state, i, j):\n",
    "    vec = ((mchain[i,:] - mchain[j,:]) ** 2 )/ steady_state\n",
    "\n",
    "    return sqrt(np.sum(vec))\n",
    "\n",
    "'''\n",
    "given a Markov chain mchain and a time t, produce the matrix encoding the diffusion\n",
    "distances between all pairs of nodes\n",
    "'''\n",
    "def form_diffusion_map(mchain, t):\n",
    "    time_scaled_chain = matrix_power(mchain, t)\n",
    "    steady_state = find_steady_state(mchain)\n",
    "    dim = mchain.shape[0]\n",
    "    D = np.zeros((dim,dim))\n",
    "    for i in range(dim):\n",
    "        for j in range(i + 1, dim):\n",
    "            D[i,j] = diffusion_distance(time_scaled_chain, steady_state, i, j)\n",
    "            D[j,i] = D[i,j]\n",
    "    \n",
    "    return D\n",
    "\n",
    "'''\n",
    "returns a random probability measure on a graph with num_nodes number of nodes\n",
    "'''\n",
    "def random_measure(num_nodes):\n",
    "    unnormalized_measure = np.random.rand(num_nodes)\n",
    "    return unnormalized_measure / np.linalg.norm(unnormalized_measure, 1)\n",
    "\n",
    "'''\n",
    "given a number of nodes n and a number of measures to be produced m\n",
    "return a n x m matrix whose columns correspond to probability measures\n",
    "on a set of n elements\n",
    "'''\n",
    "def generate_measures(n: int, m: int):\n",
    "    arr = np.empty((n,m))\n",
    "    for i in range(m):\n",
    "        arr[:, i] = random_measure(n)\n",
    "    return arr\n",
    "\n",
    "'''\n",
    "given two measures head, tail and an array of measures measures, concatenate tail to the end of measures and measures to head\n",
    "'''\n",
    "def concatenate_measures(endpts, measures):\n",
    "    return np.c_[np.c_[endpts[:,0], measures], endpts[:,1]]\n",
    "\n",
    "def uniform_measure(num_nodes):\n",
    "    weight = 1 / num_nodes\n",
    "    v = [weight] * num_nodes\n",
    "    return np.array(v)\n",
    "\n",
    "def regularize_cost(matrix, epsilon=1.0):\n",
    "    rows, columns = matrix.shape\n",
    "    new_matrix = np.empty((rows, columns))\n",
    "    for i in range(rows):\n",
    "        for j in range(columns):\n",
    "            ij_dist = matrix[i,j]\n",
    "            new_matrix[i,j] = np.e ** (-1 * ij_dist / epsilon)\n",
    "    return new_matrix\n",
    "\n",
    "'''\n",
    "given a pair of measures and cost matrix, build a matrix\n",
    "whose columns are points along the geodesic path from the first measure to the second\n",
    "'''\n",
    "def build_geodesic(measures, cost, method='byhand', epsilon=1.0, steps=10):\n",
    "    assert(measures.shape[1] == 2)\n",
    "    node_count = measures.shape[0]\n",
    "    geodesic_steps = steps\n",
    "    barycenters = np.empty((node_count,geodesic_steps))\n",
    "    if method == \"byhand\" :\n",
    "        for i in range(0, geodesic_steps):\n",
    "            coordinates = np.array([i / geodesic_steps, 1 - i/geodesic_steps])\n",
    "            barycenters[:,i] = barycenter(measures, cost, epsilon, coordinates, steps=10)\n",
    "    else: \n",
    "        print('computing using Python OT library')\n",
    "        for i in range(0, geodesic_steps):\n",
    "            coordinates = np.array([i / geodesic_steps, 1 - i/geodesic_steps])\n",
    "            barycenters[:,i] = ot.barycenter(measures, cost, epsilon, weights=coordinates)\n",
    "    return concatenate_measures(measures, barycenters)\n"
   ]
  },
  {
   "cell_type": "code",
   "execution_count": 141,
   "id": "4b02fffb-8a46-49a3-bbc9-8355482190e4",
   "metadata": {
    "collapsed": false
   },
   "outputs": [],
   "source": [
    "'''\n",
    "measures == a matrix with columns corresponding to the reference measures\n",
    "approximant == a matrix with columns corresponding to ... some tool in the step I don't grok\n",
    "k == the regularized cost matrix (regularization only needs to happen once, so do not pass unregularized cost to this function)\n",
    "coords == a point in the |measures|-simplex\n",
    "'''\n",
    "def sinkhorn_loop(measures, approximant, k, coords):\n",
    "    s = measures.shape[1] # the number of columns is the number of reference measures\n",
    "    v = k.shape[1] # measures are supported on v vertices and must be vectores of length v\n",
    "    phi = np.empty(measures.shape) #\n",
    "\n",
    "    for i in range(s):\n",
    "        b = approximant[:, i] # get the i-th column of the approximant matrix\n",
    "        p = measures[:, i]    # get the i-th column of the reference matrix\n",
    "        phi[:,i] = k.T @ (p / (k @ b))\n",
    "\n",
    "    p = np.ones(v)\n",
    "    for i in range(s):\n",
    "        p = p * (phi[:,i] ** coords[i])\n",
    "\n",
    "    b = np.empty(measures.shape)\n",
    "    for i in range(s):\n",
    "        phi_col = phi[:,i]\n",
    "        b[:, i] = np.divide(p, phi_col, out=np.zeros_like(p), where=phi_col!=0)\n",
    "\n",
    "    return b, p\n",
    "\n",
    "'''\n",
    "measures == a matrix with columns corresponding to the reference measures\n",
    "cost_mat == matrix encoding cost of moving mass i --> j\n",
    "coords == a point in the |measures|-simplex\n",
    "steps == number of iterations to carry out\n",
    "'''\n",
    "\n",
    "def barycenter(measures, cost, epsilon=1, coords=None, steps=3):\n",
    "    if coords is None:\n",
    "        coords = [1/measures.shape[1]] * measures.shape[1]\n",
    "    ones = np.ones((cost.shape[0], measures.shape[1]))\n",
    "    regularized_cost = regularize_cost(cost, epsilon)\n",
    "    b, barycenter = sinkhorn_loop(measures, ones, cost, coords)\n",
    "    for _ in range(steps):\n",
    "        b, barycenter = sinkhorn_loop(measures, b, regularized_cost, coords)\n",
    "    return barycenter        \n",
    " "
   ]
  },
  {
   "cell_type": "code",
   "execution_count": 142,
   "id": "0d31140f-e742-4837-bd16-980f3fde6e4c",
   "metadata": {
    "collapsed": false
   },
   "outputs": [
    {
     "name": "stdout",
     "output_type": "stream",
     "text": [
      "0.003846016515255281\n",
      "0.0018530358007017127\n",
      "computing using Python OT library\n"
     ]
    },
    {
     "data": {
      "text/plain": [
       "<Axes: >"
      ]
     },
     "execution_count": 142,
     "metadata": {},
     "output_type": "execute_result"
    },
    {
     "data": {
      "image/png": "[encoded data removed]",
      "text/plain": [
       "<Figure size 1500x500 with 4 Axes>"
      ]
     },
     "metadata": {},
     "output_type": "display_data"
    }
   ],
   "source": [
    "ia_markov = form_markov_chain(nx.adjacency_matrix(graph))\n",
    "num_nodes = ia_markov.shape[0]\n",
    "t = 1\n",
    "epsilon = 1\n",
    "weights = [0.5, 0.5]\n",
    "ia_diffusion = form_diffusion_map(ia_markov, t)\n",
    "reg_ia = regularize_cost(ia_diffusion)\n",
    "measures = generate_measures(num_nodes, 2)\n",
    "b1 = barycenter(measures, ia_diffusion, epsilon)\n",
    "b2 = ot.barycenter(measures, ia_diffusion, epsilon)\n",
    "print(np.linalg.norm(b1 - b2))\n",
    "print(np.linalg.norm(b1 - b2, np.inf))\n",
    "fig = plt.figure(figsize=(15,5))\n",
    "ax1 = fig.add_subplot(1,2,1)\n",
    "ax2 = fig.add_subplot(1,2,2)\n",
    "pot_geodesic = build_geodesic(measures, ia_diffusion, method='pot', epsilon = 0.1)\n",
    "my_geodesic = build_geodesic(measures, ia_diffusion, method='byhand', epsilon = 0.1)\n",
    "sns.heatmap(pot_geodesic, ax=ax1)\n",
    "sns.heatmap(my_geodesic, ax=ax2)\n"
   ]
  },
  {
   "cell_type": "code",
   "execution_count": 143,
   "id": "6b2f7c08-91cf-4599-9286-e05f94790e98",
   "metadata": {
    "collapsed": false
   },
   "outputs": [],
   "source": [
    "def update(frame):\n",
    "    ax.clear()\n",
    "    nx.draw_circular(graph, node_color = geodesic[:,frame], with_labels=True)\n",
    "    ax.set_title(f\"step along geodesic: {frame}\")\n",
    "    \n",
    "def make_animation(measures, cost, steps, epsilon, filename):\n",
    "    geodesic = build_geodesic(measures, cost, method=None, epsilon=epsilon, steps=50)\n",
    "    plt.clf()\n",
    "    fig, ax = plt.subplots()\n",
    "     \n",
    "    ani = animation.FuncAnimation(fig=fig, func=update, frames=steps+2, interval=100, repeat=True)\n",
    "    ani.save(filename=filename, writer=\"imagemagick\")"
   ]
  },
  {
   "cell_type": "code",
   "execution_count": 129,
   "id": "e51f9631-7896-4908-b8ce-f02753ac442f",
   "metadata": {
    "collapsed": false
   },
   "outputs": [],
   "source": [
    "hand_made_adj_mat = np.array([\n",
    "        [0,1,1,0,1],\n",
    "        [1,0,0,0,1],\n",
    "        [0,1,0,1,1],\n",
    "        [0,0,1,0,1],\n",
    "        [1,1,1,1,0]\n",
    "       ]\n",
    ")\n",
    "\n",
    "mu_0 = random_measure(5)\n",
    "mu_1 = random_measure(5)\n",
    "measures=np.empty((5,2))\n",
    "measures[:,0] = mu_0\n",
    "measures[:,1] = mu_1"
   ]
  },
  {
   "cell_type": "code",
   "execution_count": 130,
   "id": "78ad65df-4e7e-4cda-80a9-b338221e4f84",
   "metadata": {
    "collapsed": false
   },
   "outputs": [
    {
     "name": "stdout",
     "output_type": "stream",
     "text": [
      "[0.5, 0.5]\n",
      "[0.20893744 0.17111626 0.22386745 0.19760955 0.19846929]\n",
      "[0.20893961 0.17099912 0.22392676 0.19760318 0.19851263]\n"
     ]
    }
   ],
   "source": [
    "epsilon = 1\n",
    "upsilon = 0.5\n",
    "cost= form_diffusion_map(form_markov_chain(hand_made_adj_mat), 1)\n",
    "barycenter_shelf = ot.barycenter(measures, cost, epsilon)\n",
    "barycenter_hand = barycenter(measures, cost, epsilon)\n",
    "#entropic_0_small = ot.barycenter(measures,cost, epsilon, weights=[1.0,0.0])\n",
    "#entropic_1_small = ot.barycenter(measures,cost, epsilon, weights=[0.0,1.0])\n",
    "#barycenter_very_small = ot.barycenter(measures, cost, upsilon)\n",
    "#entropic_0_very_small = ot.barycenter(measures,cost, upsilon, weights=[1.0,0.0])\n",
    "#entropic_1_very_small = ot.barycenter(measures,cost, upsilon, weights=[0.0,1.0])\n",
    "print(barycenter_shelf)\n",
    "print(barycenter_hand)\n"
   ]
  },
  {
   "cell_type": "code",
   "execution_count": 33,
   "id": "4a706bff-36bd-4c6a-86fc-44351038b7c5",
   "metadata": {
    "collapsed": false
   },
   "outputs": [],
   "source": []
  },
  {
   "cell_type": "code",
   "execution_count": 34,
   "id": "264f9fdb-8345-4b5a-b66d-f21098323aa6",
   "metadata": {
    "collapsed": false
   },
   "outputs": [
    {
     "data": {
      "text/plain": [
       "<Axes: >"
      ]
     },
     "execution_count": 34,
     "metadata": {},
     "output_type": "execute_result"
    },
    {
     "data": {
      "image/png": "[encoded data removed]",
      "text/plain": [
       "<Figure size 2000x500 with 4 Axes>"
      ]
     },
     "metadata": {},
     "output_type": "display_data"
    }
   ],
   "source": [
    "transition_0 = np.c_[np.c_[entropic_0_small, barycenter_small], entropic_1_small]\n",
    "transition_1 = np.c_[np.c_[entropic_0_very_small, barycenter_very_small], entropic_1_very_small]\n",
    "fig = plt.figure(figsize=(20,5))\n",
    "ax1 = fig.add_subplot(1,4,1)\n",
    "ax2 = fig.add_subplot(1,4,2)\n",
    "sns.heatmap(data=transition_0, ax=ax1)\n",
    "sns.heatmap(data=transition_1, ax=ax2)\n"
   ]
  },
  {
   "cell_type": "code",
   "execution_count": null,
   "id": "1b8fc76e-e59d-4206-be98-0b864d62e9e0",
   "metadata": {
    "collapsed": false
   },
   "outputs": [],
   "source": [
    "markov_chain = form_markov_chain(hand_made_adj_mat)\n",
    "geodesic_steps = 50\n",
    "\n",
    "spectra = [0] * 12\n",
    "for t in range(1, 12):\n",
    "    diffusion_matrix = form_diffusion_map(markov_chain, t)\n",
    "    barycenters = np.empty((5,geodesic_steps))\n",
    "    for i in range(0, geodesic_steps):\n",
    "        coordinates = np.array([i / geodesic_steps, 1 - i/geodesic_steps])\n",
    "        #temp = barycenter(measures, diffusion_matrix, coordinates, steps=10)\n",
    "        #barycenters[:,i] = temp / np.linalg.norm(temp, 1)\n",
    "        barycenters[:, i] = barycenter(measures, diffusion_matrix, coordinates, steps=10)\n",
    "    assert(np.isclose(x, 1.0) for x in np.sum(barycenters, axis=0))\n",
    "    spectra[t] = np.c_[np.c_[measures[:,0], barycenters], measures[:, 1]]\n"
   ]
  },
  {
   "cell_type": "code",
   "execution_count": null,
   "id": "e407eb61-cd32-4139-916a-994761f08e7f",
   "metadata": {
    "collapsed": false
   },
   "outputs": [],
   "source": [
    "\n",
    "sns.heatmap(data=spectra[7], ax=ax3)\n",
    "sns.heatmap(data=spectra[10], ax=ax4)"
   ]
  },
  {
   "cell_type": "code",
   "execution_count": null,
   "id": "58f81f06-63ce-4643-8504-bd989b44cb1a",
   "metadata": {
    "collapsed": false
   },
   "outputs": [],
   "source": [
    "triangle = np.array(\n",
    "    [\n",
    "        [0, 1, 1],\n",
    "        [1, 0, 1],\n",
    "        [1, 1, 0]\n",
    "    ]\n",
    ")\n",
    "markov_triangle = form_markov_chain(triangle)\n",
    "triangle_diffusion = form_diffusion_map(markov_triangle, 1)"
   ]
  },
  {
   "cell_type": "code",
   "execution_count": null,
   "id": "e30dc516-d9f9-4f34-a99d-ef5aca7af862",
   "metadata": {
    "collapsed": false
   },
   "outputs": [],
   "source": [
    "triangle_measures = np.array(\n",
    "    [\n",
    "        [0.99, 0.005, 0.005, 0],\n",
    "        [0.005, 0.99, 0.005, 0],\n",
    "        [0.005, 0.005, 0.99, 0],\n",
    "        \n",
    "    ]\n",
    ")\n",
    "triangle_measures[:, 3]= barycenter(triangle_measures[:,0:3], triangle_diffusion, np.array([0.33, 0.33, 0.33]), steps=10)\n",
    "print(expm(-triangle_diffusion))\n",
    "print(triangle_measures[:,3])\n",
    "sns.heatmap(triangle_measures)"
   ]
  },
  {
   "cell_type": "code",
   "execution_count": null,
   "id": "c0f7504e-4048-4719-b1b7-20c516885ebd",
   "metadata": {
    "collapsed": false
   },
   "outputs": [],
   "source": [
    "# some observations about this\n",
    "# 1) we aren't actually getting probability vectors out of this... the above example is pretty convincing until you\n",
    "# realize it's not normalized!\n",
    "# 2) in the actual paper by Benamou et al that Bonneel et al use to guide their approximation scheme, the matrix K\n",
    "# is given by exp(-C / \\gamma) where C is the cost matrix. doing that here with SciPy's matrix exponential function\n",
    "# results in nonsense, and these results are obtained by setting K = C\n",
    "# 3) I have tracked down the paper cited for implementing the coordinate regression but implementing it is going to\n",
    "# be something of a task, "
   ]
  },
  {
   "cell_type": "code",
   "execution_count": null,
   "id": "a634e5f9-745b-4aae-816e-21f8aa78de06",
   "metadata": {
    "collapsed": false
   },
   "outputs": [],
   "source": [
    "simple_graph = np.array(\n",
    "    [\n",
    "        [0, 1, 0],\n",
    "        [1, 0, 1],\n",
    "        [0, 1, 0]\n",
    "    ]\n",
    ")\n",
    "simple_markov =form_markov_chain(simple_graph)\n",
    "\n",
    "simple_measures = np.array(\n",
    "    [\n",
    "        [0.998, 0.001],\n",
    "        [0.001, 0.001],\n",
    "        [0.001, 0.998]\n",
    "    ]\n",
    ")\n",
    "geodesic_steps = 50\n",
    "\n",
    "spectra = [0] * 12\n",
    "for t in range(1, 12):\n",
    "    simple_diffusion_matrix = form_diffusion_map(simple_markov, t)\n",
    "    barycenters = np.empty((3,geodesic_steps))\n",
    "    for i in range(0, geodesic_steps):\n",
    "        coordinates = np.array([i / geodesic_steps, 1 - i/geodesic_steps])\n",
    "        #temp = barycenter(measures, diffusion_matrix, coordinates, steps=10)\n",
    "        #barycenters[:,i] = temp / np.linalg.norm(temp, 1)\n",
    "        barycenters[:, i] = barycenter(simple_measures, simple_diffusion_matrix, coordinates, steps=10)\n",
    "    assert(np.isclose(x, 1.0) for x in np.sum(barycenters, axis=0))\n",
    "    spectra[t] = np.c_[np.c_[simple_measures[:,0], barycenters], simple_measures[:, 1]]\n",
    "\n",
    "import matplotlib.pyplot as plt\n",
    "\n",
    "plt.clf()\n",
    "fig = plt.figure(figsize=(20,5))\n",
    "ax1 = fig.add_subplot(1,4,1)\n",
    "ax2 = fig.add_subplot(1,4,2)\n",
    "sns.heatmap(data=spectra[1], ax=ax1)\n",
    "sns.heatmap(data=spectra[4], ax=ax2)"
   ]
  },
  {
   "cell_type": "code",
   "execution_count": null,
   "id": "f2b4408b-105b-41c1-b3e2-704c1e5e4965",
   "metadata": {
    "collapsed": false
   },
   "outputs": [],
   "source": []
  }
 ],
 "metadata": {
  "kernelspec": {
   "argv": [
    "python",
    "-m",
    "ipykernel_launcher",
    "-f",
    "{connection_file}"
   ],
   "display_name": "Python 3 (ipykernel)",
   "env": null,
   "interrupt_mode": "signal",
   "language": "python",
   "metadata": {
    "debugger": true
   },
   "name": "python3"
  },
  "name": "diffusion_costs.ipynb"
 },
 "nbformat": 4,
 "nbformat_minor": 5
}
